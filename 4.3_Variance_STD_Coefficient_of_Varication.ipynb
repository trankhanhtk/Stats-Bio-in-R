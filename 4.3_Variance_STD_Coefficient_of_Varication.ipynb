{
 "cells": [
  {
   "cell_type": "code",
   "execution_count": 1,
   "id": "7ffb320d",
   "metadata": {},
   "outputs": [
    {
     "ename": "ERROR",
     "evalue": "Error in parse(text = x, srcfile = src): <text>:1:26: unexpected symbol\n1: x=seq(-10,10,length=201) par\n                             ^\n",
     "output_type": "error",
     "traceback": [
      "Error in parse(text = x, srcfile = src): <text>:1:26: unexpected symbol\n1: x=seq(-10,10,length=201) par\n                             ^\nTraceback:\n"
     ]
    }
   ],
   "source": [
    "par(mfrow = c(2,2),\n",
    "    oma = c(1,1,1,1) + 0.1,\n",
    "    mar = c(5,5,0,0) + 0.1)\n",
    "\n",
    "x=seq(-10,10,length=201)\n",
    "y1<-dnorm(x)\n",
    "y2<-dnorm(x,0,2)\n",
    "y3<-dnorm(x,0,4) plot(x,y1,type=\"l\",col=\"blue\",lwd=3,\n",
    "     xlab=\"Same mean Normal\",ylab=\"Density\",\n",
    "    cex.lab=1.3,cex.axis=1.3,col.axis=\"blue\")\n",
    "\n",
    "lines(x,y2,col=\"orange\",lwd=3)\n",
    "lines(x,y3,col=\"red\",lwd=3)\n",
    "\n",
    "y1<-dnorm(x,4,1)\n",
    "y2<-dnorm(x,2,2)\n",
    "y3<-dnorm(x,0,4) plot(x,y1,type=\"l\",col=\"blue\",lwd=3,\n",
    "     xlab=\"Different mean/Var Normal\",ylab=\"\",\n",
    "    cex.lab=1.3,cex.axis=1.3,col.axis=\"blue\",main=\"\") lines(x,y2,col=\"orange\",lwd=3) lines(x,y3,col=\"red\",lwd=3)\n",
    "x=seq(0,80,length=101) y1<-dgamma(x,shape=10,scale=2) y2<-dgamma(x,shape=5,scale=4) y3<-dgamma(x,shape=2,scale=10) plot(x,y1,type=\"l\",col=\"blue\",lwd=3,\n",
    "     xlab=\"Same mean Gamma\",ylab=\"Density\",\n",
    "cex.lab=1.3,cex.axis=1.3,col.axis=\"blue\") lines(x,y2,col=\"orange\",lwd=3) lines(x,y3,col=\"red\",lwd=3)\n",
    "x=seq(0,80,length=101) y1<-dgamma(x,shape=10,scale=sqrt(10)) y2<-dgamma(x,shape=5,scale=sqrt(20)) y3<-dgamma(x ,shape=2,scale=sqrt(50)) plot(x,y1,type=\"l\",col=\"blue\",lwd=3,\n",
    "ylim=c(0,0.06),xlab=\"Same Var Gamma\",ylab=\"\",\n",
    "cex.lab=1.3,cex.axis=1.3,col.axis=\"blue\") lines(x,y2,col=\"orange\",lwd=3)"
   ]
  },
  {
   "cell_type": "code",
   "execution_count": null,
   "id": "44908cac",
   "metadata": {},
   "outputs": [],
   "source": []
  }
 ],
 "metadata": {
  "kernelspec": {
   "display_name": "R",
   "language": "R",
   "name": "ir"
  },
  "language_info": {
   "codemirror_mode": "r",
   "file_extension": ".r",
   "mimetype": "text/x-r-source",
   "name": "R",
   "pygments_lexer": "r",
   "version": "3.6.1"
  }
 },
 "nbformat": 4,
 "nbformat_minor": 5
}
