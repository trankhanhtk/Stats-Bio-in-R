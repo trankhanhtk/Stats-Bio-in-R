{
 "cells": [
  {
   "cell_type": "markdown",
   "id": "4da491e6",
   "metadata": {},
   "source": [
    "## Exponential Survial Distribution"
   ]
  },
  {
   "cell_type": "markdown",
   "id": "5bb826f1",
   "metadata": {},
   "source": [
    "### First Quantile"
   ]
  },
  {
   "cell_type": "code",
   "execution_count": 28,
   "id": "75384763",
   "metadata": {},
   "outputs": [],
   "source": [
    "rate = 5"
   ]
  },
  {
   "cell_type": "code",
   "execution_count": 31,
   "id": "051cf5d9",
   "metadata": {},
   "outputs": [
    {
     "data": {
      "text/html": [
       "1.438"
      ],
      "text/latex": [
       "1.438"
      ],
      "text/markdown": [
       "1.438"
      ],
      "text/plain": [
       "[1] 1.438"
      ]
     },
     "metadata": {},
     "output_type": "display_data"
    }
   ],
   "source": [
    "surv_time=qexp(.25, 1/rate)\n",
    "round(surv_time,digits=3)"
   ]
  },
  {
   "cell_type": "markdown",
   "id": "83c25898",
   "metadata": {},
   "source": [
    "### Second Quantile"
   ]
  },
  {
   "cell_type": "code",
   "execution_count": 32,
   "id": "d593220f",
   "metadata": {},
   "outputs": [
    {
     "data": {
      "text/html": [
       "3.46573590279973"
      ],
      "text/latex": [
       "3.46573590279973"
      ],
      "text/markdown": [
       "3.46573590279973"
      ],
      "text/plain": [
       "[1] 3.465736"
      ]
     },
     "metadata": {},
     "output_type": "display_data"
    }
   ],
   "source": [
    "qexp(.5, 1/rate)"
   ]
  },
  {
   "cell_type": "code",
   "execution_count": 34,
   "id": "ad7a6793",
   "metadata": {},
   "outputs": [
    {
     "data": {
      "text/html": [
       "3.46573590279973"
      ],
      "text/latex": [
       "3.46573590279973"
      ],
      "text/markdown": [
       "3.46573590279973"
      ],
      "text/plain": [
       "[1] 3.465736"
      ]
     },
     "metadata": {},
     "output_type": "display_data"
    },
    {
     "data": {
      "text/html": [
       "0.5"
      ],
      "text/latex": [
       "0.5"
      ],
      "text/markdown": [
       "0.5"
      ],
      "text/plain": [
       "[1] 0.5"
      ]
     },
     "metadata": {},
     "output_type": "display_data"
    }
   ],
   "source": [
    "log(2)*rate # should be equal to qexp(.5, 1/rate) ~ 3.466\n",
    "pexp(log(2)*rate, 1/rate, lower.tail=TRUE) # .5"
   ]
  },
  {
   "cell_type": "markdown",
   "id": "4c5879e4",
   "metadata": {},
   "source": [
    "## Compare Distributions"
   ]
  },
  {
   "cell_type": "code",
   "execution_count": 176,
   "id": "fca0c5f9",
   "metadata": {},
   "outputs": [],
   "source": [
    "n_samples = 30\n",
    "x1<-rexp(n_samples, 1/rate)\n",
    "x2<-rexp(n_samples, 1/rate)\n",
    "x3<-rexp(n_samples, 1/rate)\n",
    "q_ranges = seq(0.01,0.99,length=100)\n",
    "# empirical quantiles\n",
    "eq1<-quantile(x1, q_ranges)\n",
    "eq2<-quantile(x2, q_ranges)\n",
    "eq3<-quantile(x3, q_ranges)"
   ]
  },
  {
   "cell_type": "code",
   "execution_count": 177,
   "id": "4e282ff8",
   "metadata": {},
   "outputs": [],
   "source": [
    "tq <- qexp(q_ranges, 1/rate) #theoretical quantiles\n",
    "# round(tq, digits=2)"
   ]
  },
  {
   "cell_type": "code",
   "execution_count": 178,
   "id": "76d0ba72",
   "metadata": {},
   "outputs": [
    {
     "data": {
      "text/html": [
       "23.0258509299405"
      ],
      "text/latex": [
       "23.0258509299405"
      ],
      "text/markdown": [
       "23.0258509299405"
      ],
      "text/plain": [
       "[1] 23.02585"
      ]
     },
     "metadata": {},
     "output_type": "display_data"
    },
    {
     "data": {
      "text/html": [
       "19.4943504473546"
      ],
      "text/latex": [
       "19.4943504473546"
      ],
      "text/markdown": [
       "19.4943504473546"
      ],
      "text/plain": [
       "[1] 19.49435"
      ]
     },
     "metadata": {},
     "output_type": "display_data"
    }
   ],
   "source": [
    "unname(tq)[100]\n",
    "unname(eq1)[100]"
   ]
  },
  {
   "cell_type": "code",
   "execution_count": 188,
   "id": "8cb6c57a",
   "metadata": {},
   "outputs": [
    {
     "data": {
      "text/html": [
       "<ol class=list-inline>\n",
       "\t<li>0.480584667739458</li>\n",
       "\t<li>11.9626768752005</li>\n",
       "</ol>\n"
      ],
      "text/latex": [
       "\\begin{enumerate*}\n",
       "\\item 0.480584667739458\n",
       "\\item 11.9626768752005\n",
       "\\end{enumerate*}\n"
      ],
      "text/markdown": [
       "1. 0.480584667739458\n",
       "2. 11.9626768752005\n",
       "\n",
       "\n"
      ],
      "text/plain": [
       "[1]  0.4805847 11.9626769"
      ]
     },
     "metadata": {},
     "output_type": "display_data"
    }
   ],
   "source": [
    "c(unname(eq1)[1], unname(eq1)[90])"
   ]
  },
  {
   "cell_type": "markdown",
   "id": "040df0ba",
   "metadata": {},
   "source": [
    "## Q-Q Plot"
   ]
  },
  {
   "cell_type": "code",
   "execution_count": 226,
   "id": "8c78a1b8",
   "metadata": {},
   "outputs": [
    {
     "ename": "ERROR",
     "evalue": "Error in parse(text = x, srcfile = src): <text>:6:0: unexpected end of input\n4: \n5: lines(c(unname(tq)[1], unname(eq1)[1]), c(line(unname(tq)[100], unname(eq1)[100]))\n  ^\n",
     "output_type": "error",
     "traceback": [
      "Error in parse(text = x, srcfile = src): <text>:6:0: unexpected end of input\n4: \n5: lines(c(unname(tq)[1], unname(eq1)[1]), c(line(unname(tq)[100], unname(eq1)[100]))\n  ^\nTraceback:\n"
     ]
    }
   ],
   "source": [
    "plot(tq, eq1, pch=19, col='blue', col.axis='blue', xlab='Theoretical quantiles', ylab='Sample quantiles')\n",
    "lines(tq, eq2, type='p', pch=19, col='orange')\n",
    "lines(tq, eq3, type='p', pch=19, col='red')\n",
    "\n",
    "lines(c(unname(tq)[1], unname(eq1)[1]), c(unname(tq)[100], unname(eq1)[100]))"
   ]
  },
  {
   "cell_type": "code",
   "execution_count": null,
   "id": "9907bbe4",
   "metadata": {},
   "outputs": [],
   "source": []
  }
 ],
 "metadata": {
  "kernelspec": {
   "display_name": "R",
   "language": "R",
   "name": "ir"
  },
  "language_info": {
   "codemirror_mode": "r",
   "file_extension": ".r",
   "mimetype": "text/x-r-source",
   "name": "R",
   "pygments_lexer": "r",
   "version": "3.6.1"
  }
 },
 "nbformat": 4,
 "nbformat_minor": 5
}
