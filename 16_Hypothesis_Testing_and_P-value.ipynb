{
 "cells": [
  {
   "cell_type": "markdown",
   "id": "a61e8b2a",
   "metadata": {},
   "source": [
    "## Tests Concerning the Mean Difference"
   ]
  },
  {
   "cell_type": "markdown",
   "id": "fccd698d",
   "metadata": {},
   "source": [
    "### Load Data"
   ]
  },
  {
   "cell_type": "code",
   "execution_count": 71,
   "id": "5220a199",
   "metadata": {},
   "outputs": [],
   "source": [
    "library(tidyverse)\n",
    "dat = read.table('data/shhs1.txt', header=T, na.strings=\".\")"
   ]
  },
  {
   "cell_type": "code",
   "execution_count": 72,
   "id": "67f201ff",
   "metadata": {},
   "outputs": [
    {
     "data": {
      "text/html": [
       "<table>\n",
       "<thead><tr><th scope=col>gender</th><th scope=col>mean</th><th scope=col>sd</th><th scope=col>n</th></tr></thead>\n",
       "<tbody>\n",
       "\t<tr><td>0        </td><td> 6.154055</td><td>10.18041 </td><td>3039     </td></tr>\n",
       "\t<tr><td>1        </td><td>11.404863</td><td>14.00619 </td><td>2765     </td></tr>\n",
       "</tbody>\n",
       "</table>\n"
      ],
      "text/latex": [
       "\\begin{tabular}{r|llll}\n",
       " gender & mean & sd & n\\\\\n",
       "\\hline\n",
       "\t 0         &  6.154055 & 10.18041  & 3039     \\\\\n",
       "\t 1         & 11.404863 & 14.00619  & 2765     \\\\\n",
       "\\end{tabular}\n"
      ],
      "text/markdown": [
       "\n",
       "| gender | mean | sd | n |\n",
       "|---|---|---|---|\n",
       "| 0         |  6.154055 | 10.18041  | 3039      |\n",
       "| 1         | 11.404863 | 14.00619  | 2765      |\n",
       "\n"
      ],
      "text/plain": [
       "  gender mean      sd       n   \n",
       "1 0       6.154055 10.18041 3039\n",
       "2 1      11.404863 14.00619 2765"
      ]
     },
     "metadata": {},
     "output_type": "display_data"
    }
   ],
   "source": [
    "smry=dat %>% group_by(gender) %>% summarise(mean=mean(rdi4p), sd=sd(rdi4p), n=n())\n",
    "smry"
   ]
  },
  {
   "cell_type": "code",
   "execution_count": 31,
   "id": "2d4b9aa6",
   "metadata": {},
   "outputs": [
    {
     "data": {
      "text/html": [
       "<ol class=list-inline>\n",
       "\t<li>'3039'</li>\n",
       "\t<li>'2765'</li>\n",
       "\t<li>'6.15405531155413'</li>\n",
       "\t<li>'11.4048633909056'</li>\n",
       "\t<li>'10.1804130079805'</li>\n",
       "\t<li>'14.0061907811066'</li>\n",
       "</ol>\n"
      ],
      "text/latex": [
       "\\begin{enumerate*}\n",
       "\\item '3039'\n",
       "\\item '2765'\n",
       "\\item '6.15405531155413'\n",
       "\\item '11.4048633909056'\n",
       "\\item '10.1804130079805'\n",
       "\\item '14.0061907811066'\n",
       "\\end{enumerate*}\n"
      ],
      "text/markdown": [
       "1. '3039'\n",
       "2. '2765'\n",
       "3. '6.15405531155413'\n",
       "4. '11.4048633909056'\n",
       "5. '10.1804130079805'\n",
       "6. '14.0061907811066'\n",
       "\n",
       "\n"
      ],
      "text/plain": [
       "[1] \"3039\"             \"2765\"             \"6.15405531155413\" \"11.4048633909056\"\n",
       "[5] \"10.1804130079805\" \"14.0061907811066\""
      ]
     },
     "metadata": {},
     "output_type": "display_data"
    }
   ],
   "source": [
    "nx = smry$n[1]\n",
    "ny = smry$n[2]\n",
    "mux = smry$mean[1]\n",
    "muy = smry$mean[2]\n",
    "sdx = smry$sd[1]\n",
    "sdy = smry$sd[2]\n",
    "paste(c(nx, ny, mux, muy, sdx, sdy))"
   ]
  },
  {
   "cell_type": "markdown",
   "id": "3a5c3d3f",
   "metadata": {},
   "source": [
    "### The estimate for mean difference"
   ]
  },
  {
   "cell_type": "code",
   "execution_count": 49,
   "id": "31d98667",
   "metadata": {},
   "outputs": [
    {
     "data": {
      "text/html": [
       "5.25080807935148"
      ],
      "text/latex": [
       "5.25080807935148"
      ],
      "text/markdown": [
       "5.25080807935148"
      ],
      "text/plain": [
       "[1] 5.250808"
      ]
     },
     "metadata": {},
     "output_type": "display_data"
    }
   ],
   "source": [
    "estimate = abs(( mux - muy ))\n",
    "estimate"
   ]
  },
  {
   "cell_type": "markdown",
   "id": "8d1f3267",
   "metadata": {},
   "source": [
    "### Standard error"
   ]
  },
  {
   "cell_type": "code",
   "execution_count": 33,
   "id": "acf95224",
   "metadata": {},
   "outputs": [
    {
     "data": {
      "text/html": [
       "0.324117834956055"
      ],
      "text/latex": [
       "0.324117834956055"
      ],
      "text/markdown": [
       "0.324117834956055"
      ],
      "text/plain": [
       "[1] 0.3241178"
      ]
     },
     "metadata": {},
     "output_type": "display_data"
    }
   ],
   "source": [
    "se = sqrt(sdx^2 / nx + sdy^2 / ny)\n",
    "se"
   ]
  },
  {
   "cell_type": "markdown",
   "id": "d9bc6835",
   "metadata": {},
   "source": [
    "### Degrees of freedom"
   ]
  },
  {
   "cell_type": "code",
   "execution_count": 68,
   "id": "9c18a645",
   "metadata": {},
   "outputs": [
    {
     "data": {
      "text/html": [
       "5007.234"
      ],
      "text/latex": [
       "5007.234"
      ],
      "text/markdown": [
       "5007.234"
      ],
      "text/plain": [
       "[1] 5007.234"
      ]
     },
     "metadata": {},
     "output_type": "display_data"
    }
   ],
   "source": [
    "# See https://academic.oup.com/beheco/article/17/4/688/215960\n",
    "u = (sdy/sdx)^2\n",
    "df = round((1/nx + u/ny)^2/( 1/(nx^2 * (nx - 1)) + u^2/(ny^2 * (ny - 1)) ), 3)\n",
    "df"
   ]
  },
  {
   "cell_type": "markdown",
   "id": "7b2bbbc5",
   "metadata": {},
   "source": [
    "### The *t*-test statistic"
   ]
  },
  {
   "cell_type": "code",
   "execution_count": 35,
   "id": "a5364f04",
   "metadata": {},
   "outputs": [
    {
     "data": {
      "text/html": [
       "16.2003059167152"
      ],
      "text/latex": [
       "16.2003059167152"
      ],
      "text/markdown": [
       "16.2003059167152"
      ],
      "text/plain": [
       "[1] 16.20031"
      ]
     },
     "metadata": {},
     "output_type": "display_data"
    }
   ],
   "source": [
    "ts = estimate  / se  # pooled se sqrt(var_1/nx + var_2 / ny)\n",
    "ts"
   ]
  },
  {
   "cell_type": "markdown",
   "id": "c9e07faa",
   "metadata": {},
   "source": [
    "### Conclusion"
   ]
  },
  {
   "cell_type": "markdown",
   "id": "3307cd14",
   "metadata": {},
   "source": [
    "Since 16.2 is much higher than $t_{df, 1-\\alpha / 2 }$ (for large $df$ this aproximates $Z_{1 - \\alpha/2}$  $\\approx$ 1.96 )"
   ]
  },
  {
   "cell_type": "markdown",
   "id": "7d380512",
   "metadata": {},
   "source": [
    "### Gosset's *t* quantile for 95% ci"
   ]
  },
  {
   "cell_type": "code",
   "execution_count": 60,
   "id": "97f3b762",
   "metadata": {},
   "outputs": [
    {
     "data": {
      "text/html": [
       "1.95996677412725"
      ],
      "text/latex": [
       "1.95996677412725"
      ],
      "text/markdown": [
       "1.95996677412725"
      ],
      "text/plain": [
       "[1] 1.959967"
      ]
     },
     "metadata": {},
     "output_type": "display_data"
    }
   ],
   "source": [
    "# 95 + (100-95)/5 = 97.5\n",
    "q975 = qt( .975, df )\n",
    "q975"
   ]
  },
  {
   "cell_type": "code",
   "execution_count": 61,
   "id": "2a7d82c6",
   "metadata": {},
   "outputs": [
    {
     "data": {
      "text/html": [
       "4.616"
      ],
      "text/latex": [
       "4.616"
      ],
      "text/markdown": [
       "4.616"
      ],
      "text/plain": [
       "[1] 4.616"
      ]
     },
     "metadata": {},
     "output_type": "display_data"
    }
   ],
   "source": [
    "round( estimate - q975 * sqrt( sdx^2 / nx  + sdy^2 / ny ), 3)"
   ]
  },
  {
   "cell_type": "code",
   "execution_count": 62,
   "id": "9975dfdb",
   "metadata": {},
   "outputs": [
    {
     "data": {
      "text/html": [
       "5.886"
      ],
      "text/latex": [
       "5.886"
      ],
      "text/markdown": [
       "5.886"
      ],
      "text/plain": [
       "[1] 5.886"
      ]
     },
     "metadata": {},
     "output_type": "display_data"
    }
   ],
   "source": [
    "round( estimate + q975 * sqrt( sdx^2 / nx  + sdy^2 / ny ), 3)"
   ]
  },
  {
   "cell_type": "markdown",
   "id": "53247737",
   "metadata": {},
   "source": [
    "## Welch's Approximation"
   ]
  },
  {
   "cell_type": "code",
   "execution_count": 70,
   "id": "d1ae8ea5",
   "metadata": {},
   "outputs": [
    {
     "data": {
      "text/plain": [
       "\n",
       "\tWelch Two Sample t-test\n",
       "\n",
       "data:  dat$rdi4p by dat$gender\n",
       "t = -16.2, df = 5007.2, p-value < 2.2e-16\n",
       "alternative hypothesis: true difference in means is not equal to 0\n",
       "95 percent confidence interval:\n",
       " -5.886221 -4.615395\n",
       "sample estimates:\n",
       "mean in group 0 mean in group 1 \n",
       "       6.154055       11.404863 \n"
      ]
     },
     "metadata": {},
     "output_type": "display_data"
    }
   ],
   "source": [
    "t.test(dat$rdi4p ~ dat$gender, var.equal=F)"
   ]
  },
  {
   "cell_type": "markdown",
   "id": "01ac5d60",
   "metadata": {},
   "source": [
    "## P-Values\n",
    "Consider an experiment of 10 coin flips that resulted in 2 heads. So the hypotheses are: $H_{0}$: p = .5 and $H_{a}$: p $\\neq$ .5. The following code will calculate p-value from the sample statistic for a binomial distribution with n = 10 and $p_{0}$ = .5."
   ]
  },
  {
   "cell_type": "code",
   "execution_count": 82,
   "id": "9831f698",
   "metadata": {},
   "outputs": [
    {
     "data": {
      "text/html": [
       "0.0546875"
      ],
      "text/latex": [
       "0.0546875"
      ],
      "text/markdown": [
       "0.0546875"
      ],
      "text/plain": [
       "[1] 0.0546875"
      ]
     },
     "metadata": {},
     "output_type": "display_data"
    }
   ],
   "source": [
    "pbinom(2, 10, .5, lower.tail=T)"
   ]
  },
  {
   "cell_type": "markdown",
   "id": "1d6742ed",
   "metadata": {},
   "source": [
    "### Rephrase the test\n",
    " but now we will perform testing for the result of getting 8 heads or more."
   ]
  },
  {
   "cell_type": "code",
   "execution_count": 83,
   "id": "b2475706",
   "metadata": {},
   "outputs": [
    {
     "data": {
      "text/html": [
       "0.0546875"
      ],
      "text/latex": [
       "0.0546875"
      ],
      "text/markdown": [
       "0.0546875"
      ],
      "text/plain": [
       "[1] 0.0546875"
      ]
     },
     "metadata": {},
     "output_type": "display_data"
    }
   ],
   "source": [
    "pbinom(7, 10, .5, lower.tail=F)"
   ]
  },
  {
   "cell_type": "code",
   "execution_count": null,
   "id": "75b0b2d7",
   "metadata": {},
   "outputs": [],
   "source": []
  }
 ],
 "metadata": {
  "kernelspec": {
   "display_name": "R",
   "language": "R",
   "name": "ir"
  },
  "language_info": {
   "codemirror_mode": "r",
   "file_extension": ".r",
   "mimetype": "text/x-r-source",
   "name": "R",
   "pygments_lexer": "r",
   "version": "3.6.1"
  }
 },
 "nbformat": 4,
 "nbformat_minor": 5
}
